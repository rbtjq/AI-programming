{
 "cells": [
  {
   "cell_type": "code",
   "execution_count": 4,
   "id": "45ab6118-79fb-407b-ba80-65d9a75a1d43",
   "metadata": {},
   "outputs": [
    {
     "name": "stdout",
     "output_type": "stream",
     "text": [
      "Decision Tree Accuracy: 0.8250\n",
      "Random Forest Accuracy: 0.8900\n",
      "SVM Accuracy: 0.8925\n",
      "Logistic Regression Accuracy: 0.9750\n",
      "\n",
      "📊 모델별 정확도 비교:\n",
      "Decision Tree: 0.8250\n",
      "Random Forest: 0.8900\n",
      "SVM: 0.8925\n",
      "Logistic Regression: 0.9750\n"
     ]
    }
   ],
   "source": [
    "import pandas as pd\n",
    "import numpy as np\n",
    "from sklearn.model_selection import train_test_split\n",
    "from sklearn.preprocessing import StandardScaler\n",
    "from sklearn.tree import DecisionTreeClassifier\n",
    "from sklearn.ensemble import RandomForestClassifier\n",
    "from sklearn.svm import SVC\n",
    "from sklearn.linear_model import LogisticRegression\n",
    "from sklearn.metrics import accuracy_score\n",
    "\n",
    "# 1. 데이터 불러오기\n",
    "url = \"https://raw.githubusercontent.com/MyungKyuYi/AI-class/main/mobile.csv\"\n",
    "df = pd.read_csv(url)\n",
    "\n",
    "# 2. 데이터 전처리\n",
    "# X (특징), y (레이블) 분리 (마지막 컬럼이 타겟이라고 가정)\n",
    "X = df.iloc[:, :-1]  # 마지막 열 제외 (특징)\n",
    "y = df.iloc[:, -1]   # 마지막 열 (타겟)\n",
    "\n",
    "# 훈련/테스트 데이터 분할 (80% 훈련, 20% 테스트)\n",
    "X_train, X_test, y_train, y_test = train_test_split(X, y, test_size=0.2, random_state=42)\n",
    "\n",
    "# 3. 데이터 정규화 (SVM & LR 성능 향상을 위해 필요)\n",
    "scaler = StandardScaler()\n",
    "X_train_scaled = scaler.fit_transform(X_train)\n",
    "X_test_scaled = scaler.transform(X_test)\n",
    "\n",
    "# 4. 모델 학습 및 평가\n",
    "models = {\n",
    "    \"Decision Tree\": DecisionTreeClassifier(),\n",
    "    \"Random Forest\": RandomForestClassifier(n_estimators=100),\n",
    "    \"SVM\": SVC(),\n",
    "    \"Logistic Regression\": LogisticRegression(max_iter=1000)\n",
    "}\n",
    "\n",
    "# 결과 저장용 딕셔너리\n",
    "results = {}\n",
    "\n",
    "for name, model in models.items():\n",
    "    if name in [\"SVM\", \"Logistic Regression\"]:\n",
    "        model.fit(X_train_scaled, y_train)  # 정규화된 데이터 사용\n",
    "        y_pred = model.predict(X_test_scaled)\n",
    "    else:\n",
    "        model.fit(X_train, y_train)  # 원본 데이터 사용\n",
    "        y_pred = model.predict(X_test)\n",
    "    \n",
    "    acc = accuracy_score(y_test, y_pred)\n",
    "    results[name] = acc\n",
    "    print(f\"{name} Accuracy: {acc:.4f}\")\n",
    "\n",
    "# 5. 최종 결과 출력\n",
    "print(\"\\n모델별 정확도 비교:\")\n",
    "for model, acc in results.items():\n",
    "    print(f\"{model}: {acc:.4f}\")"
   ]
  },
  {
   "cell_type": "code",
   "execution_count": null,
   "id": "d37689da-20c1-4621-aba4-09ef637be810",
   "metadata": {},
   "outputs": [],
   "source": []
  }
 ],
 "metadata": {
  "kernelspec": {
   "display_name": "Python [conda env:base] *",
   "language": "python",
   "name": "conda-base-py"
  },
  "language_info": {
   "codemirror_mode": {
    "name": "ipython",
    "version": 3
   },
   "file_extension": ".py",
   "mimetype": "text/x-python",
   "name": "python",
   "nbconvert_exporter": "python",
   "pygments_lexer": "ipython3",
   "version": "3.12.7"
  }
 },
 "nbformat": 4,
 "nbformat_minor": 5
}
